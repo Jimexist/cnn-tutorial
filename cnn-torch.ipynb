{
 "cells": [
  {
   "cell_type": "code",
   "execution_count": 1,
   "id": "fcff2cda",
   "metadata": {},
   "outputs": [],
   "source": [
    "import torch\n",
    "from torch import nn\n",
    "from torchvision import transforms\n",
    "from torchvision.datasets import MNIST\n",
    "from tqdm.auto import trange, tqdm\n",
    "from torch.utils.data import DataLoader"
   ]
  },
  {
   "cell_type": "code",
   "execution_count": 2,
   "id": "964b8674",
   "metadata": {},
   "outputs": [
    {
     "name": "stderr",
     "output_type": "stream",
     "text": [
      "/Users/jiayu_liu/GitHub/cnn-tutorial/.venv/lib/python3.8/site-packages/torchvision/datasets/mnist.py:498: UserWarning: The given NumPy array is not writeable, and PyTorch does not support non-writeable tensors. This means you can write to the underlying (supposedly non-writeable) NumPy array using the tensor. You may want to copy the array to protect its data or make it writeable before converting it to a tensor. This type of warning will be suppressed for the rest of this program. (Triggered internally at  ../torch/csrc/utils/tensor_numpy.cpp:180.)\n",
      "  return torch.from_numpy(parsed.astype(m[2], copy=False)).view(*s)\n"
     ]
    }
   ],
   "source": [
    "train_ds = MNIST('./mnist', download=True, train=True, transform=transforms.Compose([\n",
    "    transforms.ToTensor()\n",
    "]))\n",
    "test_ds = MNIST('./mnist', download=True, train=False, transform=transforms.Compose([\n",
    "    transforms.ToTensor()\n",
    "]))"
   ]
  },
  {
   "cell_type": "code",
   "execution_count": 3,
   "id": "1008b5d9",
   "metadata": {},
   "outputs": [],
   "source": [
    "train_dl = DataLoader(train_ds, batch_size=128, shuffle=True)\n",
    "test_dl = DataLoader(test_ds, batch_size=128)"
   ]
  },
  {
   "cell_type": "code",
   "execution_count": 4,
   "id": "2d587d18",
   "metadata": {},
   "outputs": [],
   "source": [
    "model = nn.Sequential(\n",
    "    nn.Conv2d(1, 32, 3),\n",
    "    nn.ReLU(inplace=True),\n",
    "    nn.MaxPool2d(2),\n",
    "    nn.Conv2d(32, 64, 3),\n",
    "    nn.ReLU(inplace=True),\n",
    "    nn.MaxPool2d(2),\n",
    "    nn.Flatten(),\n",
    "    nn.Linear(5*5*64, 10),\n",
    ")"
   ]
  },
  {
   "cell_type": "code",
   "execution_count": 5,
   "id": "4eb2ad0a",
   "metadata": {},
   "outputs": [],
   "source": [
    "criterion = nn.CrossEntropyLoss()"
   ]
  },
  {
   "cell_type": "code",
   "execution_count": 6,
   "id": "3d5e83a0",
   "metadata": {},
   "outputs": [],
   "source": [
    "optim = torch.optim.Adam(model.parameters(), lr=1e-3)"
   ]
  },
  {
   "cell_type": "code",
   "execution_count": 7,
   "id": "69243e38",
   "metadata": {},
   "outputs": [
    {
     "data": {
      "application/vnd.jupyter.widget-view+json": {
       "model_id": "2ea78e8544e84e119654e35990c6466c",
       "version_major": 2,
       "version_minor": 0
      },
      "text/plain": [
       "  0%|          | 0/6 [00:00<?, ?it/s]"
      ]
     },
     "metadata": {},
     "output_type": "display_data"
    },
    {
     "data": {
      "application/vnd.jupyter.widget-view+json": {
       "model_id": "c3ded78d4f28408baff7d0d89c46f71c",
       "version_major": 2,
       "version_minor": 0
      },
      "text/plain": [
       "train 0:   0%|          | 0/469 [00:00<?, ?it/s]"
      ]
     },
     "metadata": {},
     "output_type": "display_data"
    },
    {
     "name": "stderr",
     "output_type": "stream",
     "text": [
      "/Users/jiayu_liu/GitHub/cnn-tutorial/.venv/lib/python3.8/site-packages/torch/nn/functional.py:718: UserWarning: Named tensors and all their associated APIs are an experimental feature and subject to change. Please do not use them for anything important until they are released as stable. (Triggered internally at  ../c10/core/TensorImpl.h:1156.)\n",
      "  return torch.max_pool2d(input, kernel_size, stride, padding, dilation, ceil_mode)\n"
     ]
    },
    {
     "name": "stdout",
     "output_type": "stream",
     "text": [
      "train loss=127.6195, accuracy=0.921\n"
     ]
    },
    {
     "data": {
      "application/vnd.jupyter.widget-view+json": {
       "model_id": "5e2417adb3a14f578520af58909460d4",
       "version_major": 2,
       "version_minor": 0
      },
      "text/plain": [
       "test 0:   0%|          | 0/79 [00:00<?, ?it/s]"
      ]
     },
     "metadata": {},
     "output_type": "display_data"
    },
    {
     "name": "stdout",
     "output_type": "stream",
     "text": [
      "test loss=6.1394, accuracy=0.977\n"
     ]
    },
    {
     "data": {
      "application/vnd.jupyter.widget-view+json": {
       "model_id": "4034f0d43008488fb3ecdf5104c1c31e",
       "version_major": 2,
       "version_minor": 0
      },
      "text/plain": [
       "train 1:   0%|          | 0/469 [00:00<?, ?it/s]"
      ]
     },
     "metadata": {},
     "output_type": "display_data"
    },
    {
     "name": "stdout",
     "output_type": "stream",
     "text": [
      "train loss=34.5962, accuracy=0.978\n"
     ]
    },
    {
     "data": {
      "application/vnd.jupyter.widget-view+json": {
       "model_id": "ca61ddbafeee464e8b972189508db812",
       "version_major": 2,
       "version_minor": 0
      },
      "text/plain": [
       "test 1:   0%|          | 0/79 [00:00<?, ?it/s]"
      ]
     },
     "metadata": {},
     "output_type": "display_data"
    },
    {
     "name": "stdout",
     "output_type": "stream",
     "text": [
      "test loss=4.1343, accuracy=0.984\n"
     ]
    },
    {
     "data": {
      "application/vnd.jupyter.widget-view+json": {
       "model_id": "90d78b2142e24df49f9744e0bd003082",
       "version_major": 2,
       "version_minor": 0
      },
      "text/plain": [
       "train 2:   0%|          | 0/469 [00:00<?, ?it/s]"
      ]
     },
     "metadata": {},
     "output_type": "display_data"
    },
    {
     "name": "stdout",
     "output_type": "stream",
     "text": [
      "train loss=25.2365, accuracy=0.984\n"
     ]
    },
    {
     "data": {
      "application/vnd.jupyter.widget-view+json": {
       "model_id": "a8ad2a2705db4284b7a506d921396c1a",
       "version_major": 2,
       "version_minor": 0
      },
      "text/plain": [
       "test 2:   0%|          | 0/79 [00:00<?, ?it/s]"
      ]
     },
     "metadata": {},
     "output_type": "display_data"
    },
    {
     "name": "stdout",
     "output_type": "stream",
     "text": [
      "test loss=3.4258, accuracy=0.986\n"
     ]
    },
    {
     "data": {
      "application/vnd.jupyter.widget-view+json": {
       "model_id": "9eb8cae9d4de448d9e3e4fcda878ea12",
       "version_major": 2,
       "version_minor": 0
      },
      "text/plain": [
       "train 3:   0%|          | 0/469 [00:00<?, ?it/s]"
      ]
     },
     "metadata": {},
     "output_type": "display_data"
    },
    {
     "name": "stdout",
     "output_type": "stream",
     "text": [
      "train loss=20.3907, accuracy=0.987\n"
     ]
    },
    {
     "data": {
      "application/vnd.jupyter.widget-view+json": {
       "model_id": "b303f8ba4fd84710b4a8ec0349c42284",
       "version_major": 2,
       "version_minor": 0
      },
      "text/plain": [
       "test 3:   0%|          | 0/79 [00:00<?, ?it/s]"
      ]
     },
     "metadata": {},
     "output_type": "display_data"
    },
    {
     "name": "stdout",
     "output_type": "stream",
     "text": [
      "test loss=2.5904, accuracy=0.989\n"
     ]
    },
    {
     "data": {
      "application/vnd.jupyter.widget-view+json": {
       "model_id": "c73be52a5bef417283767b18ea078a51",
       "version_major": 2,
       "version_minor": 0
      },
      "text/plain": [
       "train 4:   0%|          | 0/469 [00:00<?, ?it/s]"
      ]
     },
     "metadata": {},
     "output_type": "display_data"
    },
    {
     "name": "stdout",
     "output_type": "stream",
     "text": [
      "train loss=17.6022, accuracy=0.988\n"
     ]
    },
    {
     "data": {
      "application/vnd.jupyter.widget-view+json": {
       "model_id": "a390a9c384214f7da532f0ea425eb4fd",
       "version_major": 2,
       "version_minor": 0
      },
      "text/plain": [
       "test 4:   0%|          | 0/79 [00:00<?, ?it/s]"
      ]
     },
     "metadata": {},
     "output_type": "display_data"
    },
    {
     "name": "stdout",
     "output_type": "stream",
     "text": [
      "test loss=2.6389, accuracy=0.989\n"
     ]
    },
    {
     "data": {
      "application/vnd.jupyter.widget-view+json": {
       "model_id": "eb617d0f980a4069bcab987fd4c5aab5",
       "version_major": 2,
       "version_minor": 0
      },
      "text/plain": [
       "train 5:   0%|          | 0/469 [00:00<?, ?it/s]"
      ]
     },
     "metadata": {},
     "output_type": "display_data"
    },
    {
     "name": "stdout",
     "output_type": "stream",
     "text": [
      "train loss=14.6568, accuracy=0.990\n"
     ]
    },
    {
     "data": {
      "application/vnd.jupyter.widget-view+json": {
       "model_id": "ef6dae83f0854b098064db59e5ea772c",
       "version_major": 2,
       "version_minor": 0
      },
      "text/plain": [
       "test 5:   0%|          | 0/79 [00:00<?, ?it/s]"
      ]
     },
     "metadata": {},
     "output_type": "display_data"
    },
    {
     "name": "stdout",
     "output_type": "stream",
     "text": [
      "test loss=2.9417, accuracy=0.989\n"
     ]
    }
   ],
   "source": [
    "epochs = 6\n",
    "\n",
    "for i in trange(epochs):\n",
    "    epoch_loss = 0.0\n",
    "    correct = 0\n",
    "    count = 0\n",
    "    for data, label in tqdm(train_dl, desc=f'train {i}'):\n",
    "        optim.zero_grad()\n",
    "        predicted = model(data)\n",
    "        loss = criterion(predicted, label)\n",
    "        loss.backward()\n",
    "        optim.step()\n",
    "        epoch_loss += loss.item()\n",
    "        correct += (predicted.softmax(-1).argmax(-1) == label).float().sum()\n",
    "        count += label.shape[0]\n",
    "    print(f'train loss={epoch_loss:.4f}, accuracy={correct / count:.3f}')\n",
    "    \n",
    "    epoch_loss = 0.0\n",
    "    correct = 0\n",
    "    count = 0\n",
    "    for data, label in tqdm(test_dl, desc=f'test {i}'):\n",
    "        predicted = model(data)\n",
    "        loss = criterion(predicted, label)\n",
    "        epoch_loss += loss.item()\n",
    "        correct += (predicted.softmax(-1).argmax(-1) == label).float().sum()\n",
    "        count += label.shape[0]\n",
    "    print(f'test loss={epoch_loss:.4f}, accuracy={correct / count:.3f}')\n",
    "        \n",
    "    "
   ]
  },
  {
   "cell_type": "code",
   "execution_count": null,
   "id": "8060be57",
   "metadata": {},
   "outputs": [],
   "source": []
  }
 ],
 "metadata": {
  "kernelspec": {
   "display_name": "Python 3 (ipykernel)",
   "language": "python",
   "name": "python3"
  },
  "language_info": {
   "codemirror_mode": {
    "name": "ipython",
    "version": 3
   },
   "file_extension": ".py",
   "mimetype": "text/x-python",
   "name": "python",
   "nbconvert_exporter": "python",
   "pygments_lexer": "ipython3",
   "version": "3.8.11"
  }
 },
 "nbformat": 4,
 "nbformat_minor": 5
}
