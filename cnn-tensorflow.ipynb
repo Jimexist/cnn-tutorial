{
 "cells": [
  {
   "cell_type": "code",
   "execution_count": 1,
   "id": "dbac434a",
   "metadata": {},
   "outputs": [
    {
     "data": {
      "text/plain": [
       "('2.4.2', '4.3.0')"
      ]
     },
     "execution_count": 1,
     "metadata": {},
     "output_type": "execute_result"
    }
   ],
   "source": [
    "import tensorflow as tf\n",
    "from tensorflow.keras import layers\n",
    "import tensorflow_datasets as tfds\n",
    "tf.__version__, tfds.__version__"
   ]
  },
  {
   "cell_type": "code",
   "execution_count": 2,
   "id": "f662b790",
   "metadata": {},
   "outputs": [
    {
     "name": "stderr",
     "output_type": "stream",
     "text": [
      "2021-07-19 12:34:01.316679: I tensorflow/compiler/jit/xla_cpu_device.cc:41] Not creating XLA devices, tf_xla_enable_xla_devices not set\n",
      "2021-07-19 12:34:01.316920: I tensorflow/core/platform/cpu_feature_guard.cc:142] This TensorFlow binary is optimized with oneAPI Deep Neural Network Library (oneDNN) to use the following CPU instructions in performance-critical operations:  AVX2 FMA\n",
      "To enable them in other operations, rebuild TensorFlow with the appropriate compiler flags.\n"
     ]
    }
   ],
   "source": [
    "(ds_train, ds_test), ds_info = tfds.load('mnist',\n",
    "                  split=['train', 'test'],\n",
    "                  shuffle_files=True,\n",
    "                  as_supervised=True,\n",
    "                  with_info=True)"
   ]
  },
  {
   "cell_type": "code",
   "execution_count": 3,
   "id": "895bbf19",
   "metadata": {},
   "outputs": [],
   "source": [
    "def normalize_img(image, label):\n",
    "    return tf.cast(image, tf.float32) / 255., label\n",
    "\n",
    "ds_train = ds_train.map(normalize_img, num_parallel_calls=tf.data.experimental.AUTOTUNE) \\\n",
    "    .cache() \\\n",
    "    .shuffle(ds_info.splits['train'].num_examples) \\\n",
    "    .batch(128) \\\n",
    "    .prefetch(tf.data.experimental.AUTOTUNE)\n",
    "\n",
    "ds_test = ds_test.map(normalize_img, num_parallel_calls=tf.data.experimental.AUTOTUNE) \\\n",
    "    .cache() \\\n",
    "    .batch(128) \\\n",
    "    .prefetch(tf.data.experimental.AUTOTUNE)"
   ]
  },
  {
   "cell_type": "code",
   "execution_count": 4,
   "id": "6d474e44",
   "metadata": {},
   "outputs": [],
   "source": [
    "model = tf.keras.Sequential([\n",
    "    layers.Conv2D(16, 3),\n",
    "    layers.MaxPool2D(2),\n",
    "    layers.Conv2D(32, 3),\n",
    "    layers.MaxPool2D(2),\n",
    "    layers.Flatten(),\n",
    "    layers.Dense(10)\n",
    "])"
   ]
  },
  {
   "cell_type": "code",
   "execution_count": 5,
   "id": "9a8583d8",
   "metadata": {},
   "outputs": [],
   "source": [
    "model.compile(optimizer=tf.keras.optimizers.Adam(1e-3), \n",
    "              loss=tf.keras.losses.SparseCategoricalCrossentropy(from_logits=True), \n",
    "              metrics=[tf.keras.metrics.SparseCategoricalAccuracy()])"
   ]
  },
  {
   "cell_type": "code",
   "execution_count": 6,
   "id": "f0908fa4",
   "metadata": {},
   "outputs": [
    {
     "name": "stdout",
     "output_type": "stream",
     "text": [
      "Epoch 1/6\n"
     ]
    },
    {
     "name": "stderr",
     "output_type": "stream",
     "text": [
      "2021-07-19 12:34:01.826842: I tensorflow/compiler/mlir/mlir_graph_optimization_pass.cc:116] None of the MLIR optimization passes are enabled (registered 2)\n"
     ]
    },
    {
     "name": "stdout",
     "output_type": "stream",
     "text": [
      "469/469 [==============================] - 7s 13ms/step - loss: 0.7513 - sparse_categorical_accuracy: 0.7910 - val_loss: 0.1265 - val_sparse_categorical_accuracy: 0.9651\n",
      "Epoch 2/6\n",
      "469/469 [==============================] - 5s 11ms/step - loss: 0.1203 - sparse_categorical_accuracy: 0.9647 - val_loss: 0.0820 - val_sparse_categorical_accuracy: 0.9749\n",
      "Epoch 3/6\n",
      "469/469 [==============================] - 6s 12ms/step - loss: 0.0858 - sparse_categorical_accuracy: 0.9752 - val_loss: 0.0594 - val_sparse_categorical_accuracy: 0.9811\n",
      "Epoch 4/6\n",
      "469/469 [==============================] - 6s 12ms/step - loss: 0.0642 - sparse_categorical_accuracy: 0.9797 - val_loss: 0.0548 - val_sparse_categorical_accuracy: 0.9809\n",
      "Epoch 5/6\n",
      "469/469 [==============================] - 6s 12ms/step - loss: 0.0571 - sparse_categorical_accuracy: 0.9825 - val_loss: 0.0547 - val_sparse_categorical_accuracy: 0.9808\n",
      "Epoch 6/6\n",
      "469/469 [==============================] - 6s 13ms/step - loss: 0.0491 - sparse_categorical_accuracy: 0.9852 - val_loss: 0.0519 - val_sparse_categorical_accuracy: 0.9827\n"
     ]
    },
    {
     "data": {
      "text/plain": [
       "<tensorflow.python.keras.callbacks.History at 0x107a475b0>"
      ]
     },
     "execution_count": 6,
     "metadata": {},
     "output_type": "execute_result"
    }
   ],
   "source": [
    "model.fit(ds_train,\n",
    "          epochs=6,    \n",
    "          validation_data=ds_test)"
   ]
  },
  {
   "cell_type": "code",
   "execution_count": null,
   "id": "cf0a5f90",
   "metadata": {},
   "outputs": [],
   "source": []
  }
 ],
 "metadata": {
  "kernelspec": {
   "display_name": "Python 3 (ipykernel)",
   "language": "python",
   "name": "python3"
  },
  "language_info": {
   "codemirror_mode": {
    "name": "ipython",
    "version": 3
   },
   "file_extension": ".py",
   "mimetype": "text/x-python",
   "name": "python",
   "nbconvert_exporter": "python",
   "pygments_lexer": "ipython3",
   "version": "3.8.11"
  }
 },
 "nbformat": 4,
 "nbformat_minor": 5
}
