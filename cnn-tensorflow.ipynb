{
 "cells": [
  {
   "cell_type": "code",
   "execution_count": 1,
   "id": "dbac434a",
   "metadata": {},
   "outputs": [
    {
     "data": {
      "text/plain": [
       "('2.5.0', '4.3.0')"
      ]
     },
     "execution_count": 1,
     "metadata": {},
     "output_type": "execute_result"
    }
   ],
   "source": [
    "import tensorflow as tf\n",
    "from tensorflow.keras import layers\n",
    "import tensorflow_datasets as tfds\n",
    "tf.__version__, tfds.__version__"
   ]
  },
  {
   "cell_type": "code",
   "execution_count": 2,
   "id": "f662b790",
   "metadata": {},
   "outputs": [
    {
     "name": "stderr",
     "output_type": "stream",
     "text": [
      "2021-07-19 13:54:38.359323: I tensorflow/core/platform/cpu_feature_guard.cc:142] This TensorFlow binary is optimized with oneAPI Deep Neural Network Library (oneDNN) to use the following CPU instructions in performance-critical operations:  AVX2 FMA\n",
      "To enable them in other operations, rebuild TensorFlow with the appropriate compiler flags.\n"
     ]
    }
   ],
   "source": [
    "(ds_train, ds_test), ds_info = tfds.load('mnist',\n",
    "                  split=['train', 'test'],\n",
    "                  shuffle_files=True,\n",
    "                  as_supervised=True,\n",
    "                  with_info=True)"
   ]
  },
  {
   "cell_type": "code",
   "execution_count": 3,
   "id": "895bbf19",
   "metadata": {},
   "outputs": [],
   "source": [
    "def normalize_img(image, label):\n",
    "    return tf.cast(image, tf.float32) / 255., label\n",
    "\n",
    "ds_train = ds_train.map(normalize_img, num_parallel_calls=tf.data.experimental.AUTOTUNE) \\\n",
    "    .cache() \\\n",
    "    .shuffle(ds_info.splits['train'].num_examples) \\\n",
    "    .batch(128) \\\n",
    "    .prefetch(tf.data.experimental.AUTOTUNE)\n",
    "\n",
    "ds_test = ds_test.map(normalize_img, num_parallel_calls=tf.data.experimental.AUTOTUNE) \\\n",
    "    .cache() \\\n",
    "    .batch(128) \\\n",
    "    .prefetch(tf.data.experimental.AUTOTUNE)"
   ]
  },
  {
   "cell_type": "code",
   "execution_count": 4,
   "id": "6d474e44",
   "metadata": {},
   "outputs": [],
   "source": [
    "model = tf.keras.Sequential([\n",
    "    layers.Conv2D(16, 3, activation='relu'),\n",
    "    layers.MaxPool2D(2),\n",
    "    layers.Conv2D(32, 3, activation='relu'),\n",
    "    layers.MaxPool2D(2),\n",
    "    layers.Flatten(),\n",
    "    layers.Dense(10)\n",
    "])"
   ]
  },
  {
   "cell_type": "code",
   "execution_count": 5,
   "id": "9a8583d8",
   "metadata": {},
   "outputs": [],
   "source": [
    "model.compile(optimizer=tf.keras.optimizers.Adam(1e-3), \n",
    "              loss=tf.keras.losses.SparseCategoricalCrossentropy(from_logits=True), \n",
    "              metrics=[tf.keras.metrics.SparseCategoricalAccuracy()])"
   ]
  },
  {
   "cell_type": "code",
   "execution_count": 6,
   "id": "f0908fa4",
   "metadata": {},
   "outputs": [
    {
     "name": "stdout",
     "output_type": "stream",
     "text": [
      "Epoch 1/6\n"
     ]
    },
    {
     "name": "stderr",
     "output_type": "stream",
     "text": [
      "2021-07-19 13:54:38.767094: I tensorflow/compiler/mlir/mlir_graph_optimization_pass.cc:176] None of the MLIR Optimization Passes are enabled (registered 2)\n"
     ]
    },
    {
     "name": "stdout",
     "output_type": "stream",
     "text": [
      "469/469 [==============================] - 9s 16ms/step - loss: 0.3499 - sparse_categorical_accuracy: 0.9061 - val_loss: 0.1011 - val_sparse_categorical_accuracy: 0.9702\n",
      "Epoch 2/6\n",
      "469/469 [==============================] - 7s 16ms/step - loss: 0.0930 - sparse_categorical_accuracy: 0.9720 - val_loss: 0.0683 - val_sparse_categorical_accuracy: 0.9785\n",
      "Epoch 3/6\n",
      "469/469 [==============================] - 9s 20ms/step - loss: 0.0687 - sparse_categorical_accuracy: 0.9793 - val_loss: 0.0519 - val_sparse_categorical_accuracy: 0.9842\n",
      "Epoch 4/6\n",
      "469/469 [==============================] - 11s 22ms/step - loss: 0.0571 - sparse_categorical_accuracy: 0.9826 - val_loss: 0.0545 - val_sparse_categorical_accuracy: 0.9829\n",
      "Epoch 5/6\n",
      "469/469 [==============================] - 11s 23ms/step - loss: 0.0491 - sparse_categorical_accuracy: 0.9850 - val_loss: 0.0402 - val_sparse_categorical_accuracy: 0.9881\n",
      "Epoch 6/6\n",
      "469/469 [==============================] - 10s 21ms/step - loss: 0.0437 - sparse_categorical_accuracy: 0.9866 - val_loss: 0.0402 - val_sparse_categorical_accuracy: 0.9869\n"
     ]
    },
    {
     "data": {
      "text/plain": [
       "<tensorflow.python.keras.callbacks.History at 0x190c2d580>"
      ]
     },
     "execution_count": 6,
     "metadata": {},
     "output_type": "execute_result"
    }
   ],
   "source": [
    "model.fit(ds_train,\n",
    "          epochs=6,    \n",
    "          validation_data=ds_test)"
   ]
  },
  {
   "cell_type": "code",
   "execution_count": null,
   "id": "cf0a5f90",
   "metadata": {},
   "outputs": [],
   "source": []
  }
 ],
 "metadata": {
  "kernelspec": {
   "display_name": "Python 3 (ipykernel)",
   "language": "python",
   "name": "python3"
  },
  "language_info": {
   "codemirror_mode": {
    "name": "ipython",
    "version": 3
   },
   "file_extension": ".py",
   "mimetype": "text/x-python",
   "name": "python",
   "nbconvert_exporter": "python",
   "pygments_lexer": "ipython3",
   "version": "3.8.11"
  }
 },
 "nbformat": 4,
 "nbformat_minor": 5
}
